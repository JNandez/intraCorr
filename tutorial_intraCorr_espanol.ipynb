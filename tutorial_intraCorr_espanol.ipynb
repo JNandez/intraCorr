{
 "cells": [
  {
   "cell_type": "markdown",
   "metadata": {},
   "source": [
    "# intraCorr\n",
    "intraCorr es un paquete de Python que utiliza Pandas, Numpy, Scipy y SkLearn, fue creado con el propósito de ayudarnos a determinar la correlación entre sujetos para los cuales tenemos observaciones repetidas de 2 variables. \n",
    "Existen casos en los cuales ANOVA no puede ser utilizado; por ejemplo, si medimos la altura y peso de varias personas en diferentes épocas y no se tiene el mismo número de observaciones, entonces ANOVA no puede ser utilizado dado que ANOVA requiere tener la misma cantidad de observaciones para cada individuo.\n",
    "\n",
    "Note que existen paquetes en R que pueden calcular esta correlación, sin embargo no se encontró un paquete análogo en Python.\n",
    "\n",
    "En este tutorial corto utlizamos los datos de Bland & Altman 1995, quienes introdujeron la forma de hacer estos cálculos en boiestadística\n",
    "\n",
    "## Referencias:\n",
    "* https://www.ncbi.nlm.nih.gov/pmc/articles/PMC5383908/pdf/fpsyg-08-00456.pdf\n",
    "* https://www.ncbi.nlm.nih.gov/pmc/articles/PMC2548822/pdf/bmj00580-0040.pdf\n",
    "* https://www.ncbi.nlm.nih.gov/pmc/articles/PMC2549010/pdf/bmj00583-0027.pdf\n",
    "* https://rdrr.io/cran/rmcorr/src/R/rmcorr.R\n",
    "\n",
    "## Autores:\n",
    "* José Nandez\n",
    "* Erika Muñoz"
   ]
  },
  {
   "cell_type": "markdown",
   "metadata": {},
   "source": [
    "## Llamar intraCorr\n",
    "Primero asegúrese de que tiene instalado intracorr en su hambiente virtual utilizando `pip install intraCorr`"
   ]
  },
  {
   "cell_type": "code",
   "execution_count": 30,
   "metadata": {},
   "outputs": [],
   "source": [
    "#pip install intraCorr;"
   ]
  },
  {
   "cell_type": "markdown",
   "metadata": {},
   "source": [
    "una vez instalado podemos llamar intraCorr"
   ]
  },
  {
   "cell_type": "code",
   "execution_count": 4,
   "metadata": {},
   "outputs": [],
   "source": [
    "from intraCorr import intraCorr"
   ]
  },
  {
   "cell_type": "markdown",
   "metadata": {},
   "source": [
    "## Cargamos los datos adjuntos"
   ]
  },
  {
   "cell_type": "code",
   "execution_count": 6,
   "metadata": {},
   "outputs": [],
   "source": [
    "dataTest = intraCorr.bland_altman_1995()"
   ]
  },
  {
   "cell_type": "code",
   "execution_count": 10,
   "metadata": {},
   "outputs": [
    {
     "name": "stdout",
     "output_type": "stream",
     "text": [
      "<class 'pandas.core.frame.DataFrame'>\n",
      "RangeIndex: 47 entries, 0 to 46\n",
      "Data columns (total 3 columns):\n",
      "PaCO2      47 non-null float64\n",
      "Subject    47 non-null int64\n",
      "pH         47 non-null float64\n",
      "dtypes: float64(2), int64(1)\n",
      "memory usage: 1.2 KB\n"
     ]
    }
   ],
   "source": [
    "dataTest.info()"
   ]
  },
  {
   "cell_type": "code",
   "execution_count": 13,
   "metadata": {},
   "outputs": [
    {
     "data": {
      "text/html": [
       "<div>\n",
       "<style scoped>\n",
       "    .dataframe tbody tr th:only-of-type {\n",
       "        vertical-align: middle;\n",
       "    }\n",
       "\n",
       "    .dataframe tbody tr th {\n",
       "        vertical-align: top;\n",
       "    }\n",
       "\n",
       "    .dataframe thead th {\n",
       "        text-align: right;\n",
       "    }\n",
       "</style>\n",
       "<table border=\"1\" class=\"dataframe\">\n",
       "  <thead>\n",
       "    <tr style=\"text-align: right;\">\n",
       "      <th></th>\n",
       "      <th>PaCO2</th>\n",
       "      <th>Subject</th>\n",
       "      <th>pH</th>\n",
       "    </tr>\n",
       "  </thead>\n",
       "  <tbody>\n",
       "    <tr>\n",
       "      <th>0</th>\n",
       "      <td>3.9700</td>\n",
       "      <td>1</td>\n",
       "      <td>6.6800</td>\n",
       "    </tr>\n",
       "    <tr>\n",
       "      <th>1</th>\n",
       "      <td>4.1200</td>\n",
       "      <td>1</td>\n",
       "      <td>6.5300</td>\n",
       "    </tr>\n",
       "    <tr>\n",
       "      <th>2</th>\n",
       "      <td>4.0900</td>\n",
       "      <td>1</td>\n",
       "      <td>6.4300</td>\n",
       "    </tr>\n",
       "    <tr>\n",
       "      <th>3</th>\n",
       "      <td>3.9700</td>\n",
       "      <td>1</td>\n",
       "      <td>6.3300</td>\n",
       "    </tr>\n",
       "    <tr>\n",
       "      <th>4</th>\n",
       "      <td>5.2700</td>\n",
       "      <td>2</td>\n",
       "      <td>6.8500</td>\n",
       "    </tr>\n",
       "    <tr>\n",
       "      <th>5</th>\n",
       "      <td>5.3700</td>\n",
       "      <td>2</td>\n",
       "      <td>7.0600</td>\n",
       "    </tr>\n",
       "    <tr>\n",
       "      <th>6</th>\n",
       "      <td>5.4100</td>\n",
       "      <td>2</td>\n",
       "      <td>7.1300</td>\n",
       "    </tr>\n",
       "    <tr>\n",
       "      <th>7</th>\n",
       "      <td>5.4400</td>\n",
       "      <td>2</td>\n",
       "      <td>7.1700</td>\n",
       "    </tr>\n",
       "  </tbody>\n",
       "</table>\n",
       "</div>"
      ],
      "text/plain": [
       "   PaCO2  Subject     pH\n",
       "0 3.9700        1 6.6800\n",
       "1 4.1200        1 6.5300\n",
       "2 4.0900        1 6.4300\n",
       "3 3.9700        1 6.3300\n",
       "4 5.2700        2 6.8500\n",
       "5 5.3700        2 7.0600\n",
       "6 5.4100        2 7.1300\n",
       "7 5.4400        2 7.1700"
      ]
     },
     "execution_count": 13,
     "metadata": {},
     "output_type": "execute_result"
    }
   ],
   "source": [
    "dataTest.head(8)"
   ]
  },
  {
   "cell_type": "markdown",
   "metadata": {},
   "source": [
    "### Utilice `print_results` para imprimir los datos\n",
    "Este método permite imprimir la tabla de regresión ANOVA"
   ]
  },
  {
   "cell_type": "code",
   "execution_count": 15,
   "metadata": {},
   "outputs": [
    {
     "name": "stdout",
     "output_type": "stream",
     "text": [
      "          DoF  SumOfSq    MSE  F_value  p_value\n",
      "Subject     7   2.9661 0.4237  48.2467  <0.0001\n",
      "PaCO2       1   0.1153 0.1153  13.1313   0.0008\n",
      "Residual   38   0.3337 0.0088      nan     None\n",
      "Total      46   3.3139 0.0720      nan     None\n"
     ]
    }
   ],
   "source": [
    "intraCorr('Subject','PaCO2','pH',dataTest).print_result()"
   ]
  },
  {
   "cell_type": "markdown",
   "metadata": {},
   "source": [
    "## Imprimir las variables utilizadas\n",
    "intraCorr contiene un método `plot` que muestra las tendencias. Note que se requiere utilzar `%matplotlib inline` en una celda previa."
   ]
  },
  {
   "cell_type": "code",
   "execution_count": 18,
   "metadata": {},
   "outputs": [
    {
     "data": {
      "image/png": "[encoded data removed]",
      "text/plain": [
       "<Figure size 720x720 with 1 Axes>"
      ]
     },
     "metadata": {
      "needs_background": "light"
     },
     "output_type": "display_data"
    }
   ],
   "source": [
    "intraCorr('Subject','PaCO2','pH',dataTest).plot(prefix='Subject')"
   ]
  },
  {
   "cell_type": "markdown",
   "metadata": {},
   "source": [
    "## Calcule la correlación y el valor de p"
   ]
  },
  {
   "cell_type": "code",
   "execution_count": 27,
   "metadata": {},
   "outputs": [
    {
     "name": "stdout",
     "output_type": "stream",
     "text": [
      "Correlación = -0.5067697422330684 con valor de p = 0.0008471081091287977\n"
     ]
    }
   ],
   "source": [
    "print('Correlación = {0} con valor de p = {1}'.format(*intraCorr('Subject','PaCO2','pH',dataTest).fit()))"
   ]
  },
  {
   "cell_type": "markdown",
   "metadata": {},
   "source": [
    "## Guarde el resultado"
   ]
  },
  {
   "cell_type": "code",
   "execution_count": 28,
   "metadata": {},
   "outputs": [],
   "source": [
    "corr, valor_p = intraCorr('Subject','PaCO2','pH',dataTest).fit()"
   ]
  },
  {
   "cell_type": "code",
   "execution_count": 29,
   "metadata": {},
   "outputs": [
    {
     "data": {
      "text/plain": [
       "(-0.5067697422330684, 0.0008471081091287977)"
      ]
     },
     "execution_count": 29,
     "metadata": {},
     "output_type": "execute_result"
    }
   ],
   "source": [
    "corr, p_valor #p-valor o valor_p ???"
   ]
  },
  {
   "cell_type": "markdown",
   "metadata": {},
   "source": [
    "## Conclusion\n",
    "Este método puede ser utilizado para iterar sobre todas las variables y construir una matriz de correlaciones. Note que intraCorr maneja los datos utlizando Pandas."
   ]
  }
 ],
 "metadata": {
  "kernelspec": {
   "display_name": "Python 3",
   "language": "python",
   "name": "python3"
  },
  "language_info": {
   "codemirror_mode": {
    "name": "ipython",
    "version": 3
   },
   "file_extension": ".py",
   "mimetype": "text/x-python",
   "name": "python",
   "nbconvert_exporter": "python",
   "pygments_lexer": "ipython3",
   "version": "3.7.3"
  }
 },
 "nbformat": 4,
 "nbformat_minor": 2
}
