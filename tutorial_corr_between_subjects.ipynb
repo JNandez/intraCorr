{
 "cells": [
  {
   "cell_type": "markdown",
   "metadata": {},
   "source": [
    "## Tutorial in how to use intraCorr package\n",
    "\n",
    "`intraCorr` is a `Python` package that makes use of `Pandas`, `Numpy`, `Scipy` and `SkLearn`, it can help you determine the correlation between subjects that have repeated measurements for 2 variables. For example, let's say that we measure `heigth` and `weight` of multiple persons at different times, and they don't have the same amount of observations, therefore, `ANOVA` cannot be used since `ANOVA` requires you to have the same amount of observations for each individual. Note that there are `R` packages that can do this, but we could not find any `Python` package that could do this.\n",
    "\n",
    "In this short tutorial, we will use the data from `Bland&Altman 1995` who introduced the way to do this calculations in biostatistics. \n",
    "\n",
    "\n",
    "### References:\n",
    "\n",
    "* https://www.ncbi.nlm.nih.gov/pmc/articles/PMC5383908/pdf/fpsyg-08-00456.pdf\n",
    "* https://www.ncbi.nlm.nih.gov/pmc/articles/PMC2548822/pdf/bmj00580-0040.pdf\n",
    "* https://www.ncbi.nlm.nih.gov/pmc/articles/PMC2549010/pdf/bmj00583-0027.pdf\n",
    "* https://rdrr.io/cran/rmcorr/src/R/rmcorr.R\n",
    "\n",
    "### Authors:\n",
    "* Erika Munoz\n",
    "* Jose Nandez"
   ]
  },
  {
   "cell_type": "markdown",
   "metadata": {},
   "source": [
    "#### Load intraCorr \n",
    "\n",
    "First nake sure you install intraCorr in your `virtualenv` or your `base` by means of `pip install intraCorr`."
   ]
  },
  {
   "cell_type": "code",
   "execution_count": 1,
   "metadata": {},
   "outputs": [],
   "source": [
    "from intraCorr import intraCorr"
   ]
  },
  {
   "cell_type": "markdown",
   "metadata": {},
   "source": [
    "#### Load embedded dataset"
   ]
  },
  {
   "cell_type": "code",
   "execution_count": 2,
   "metadata": {},
   "outputs": [],
   "source": [
    "dataTest = intraCorr.bland_altman_1995()"
   ]
  },
  {
   "cell_type": "code",
   "execution_count": 3,
   "metadata": {},
   "outputs": [
    {
     "name": "stdout",
     "output_type": "stream",
     "text": [
      "<class 'pandas.core.frame.DataFrame'>\n",
      "RangeIndex: 47 entries, 0 to 46\n",
      "Data columns (total 3 columns):\n",
      "PaCO2      47 non-null float64\n",
      "Subject    47 non-null int64\n",
      "pH         47 non-null float64\n",
      "dtypes: float64(2), int64(1)\n",
      "memory usage: 1.2 KB\n"
     ]
    }
   ],
   "source": [
    "dataTest.info()"
   ]
  },
  {
   "cell_type": "code",
   "execution_count": 4,
   "metadata": {},
   "outputs": [
    {
     "data": {
      "text/html": [
       "<div>\n",
       "<style scoped>\n",
       "    .dataframe tbody tr th:only-of-type {\n",
       "        vertical-align: middle;\n",
       "    }\n",
       "\n",
       "    .dataframe tbody tr th {\n",
       "        vertical-align: top;\n",
       "    }\n",
       "\n",
       "    .dataframe thead th {\n",
       "        text-align: right;\n",
       "    }\n",
       "</style>\n",
       "<table border=\"1\" class=\"dataframe\">\n",
       "  <thead>\n",
       "    <tr style=\"text-align: right;\">\n",
       "      <th></th>\n",
       "      <th>PaCO2</th>\n",
       "      <th>Subject</th>\n",
       "      <th>pH</th>\n",
       "    </tr>\n",
       "  </thead>\n",
       "  <tbody>\n",
       "    <tr>\n",
       "      <th>0</th>\n",
       "      <td>3.9700</td>\n",
       "      <td>1</td>\n",
       "      <td>6.6800</td>\n",
       "    </tr>\n",
       "    <tr>\n",
       "      <th>1</th>\n",
       "      <td>4.1200</td>\n",
       "      <td>1</td>\n",
       "      <td>6.5300</td>\n",
       "    </tr>\n",
       "    <tr>\n",
       "      <th>2</th>\n",
       "      <td>4.0900</td>\n",
       "      <td>1</td>\n",
       "      <td>6.4300</td>\n",
       "    </tr>\n",
       "    <tr>\n",
       "      <th>3</th>\n",
       "      <td>3.9700</td>\n",
       "      <td>1</td>\n",
       "      <td>6.3300</td>\n",
       "    </tr>\n",
       "    <tr>\n",
       "      <th>4</th>\n",
       "      <td>5.2700</td>\n",
       "      <td>2</td>\n",
       "      <td>6.8500</td>\n",
       "    </tr>\n",
       "  </tbody>\n",
       "</table>\n",
       "</div>"
      ],
      "text/plain": [
       "   PaCO2  Subject     pH\n",
       "0 3.9700        1 6.6800\n",
       "1 4.1200        1 6.5300\n",
       "2 4.0900        1 6.4300\n",
       "3 3.9700        1 6.3300\n",
       "4 5.2700        2 6.8500"
      ]
     },
     "execution_count": 4,
     "metadata": {},
     "output_type": "execute_result"
    }
   ],
   "source": [
    "dataTest.head()"
   ]
  },
  {
   "cell_type": "markdown",
   "metadata": {},
   "source": [
    "#### Use intraCorr print_results\n",
    "\n",
    "This method will allow you to print `ANOVA/Regression` table."
   ]
  },
  {
   "cell_type": "code",
   "execution_count": 5,
   "metadata": {},
   "outputs": [
    {
     "name": "stdout",
     "output_type": "stream",
     "text": [
      "          DoF  SumOfSq    MSE  F_value  p_value\n",
      "Subject     7   2.9661 0.4237  48.2467  <0.0001\n",
      "PaCO2       1   0.1153 0.1153  13.1313   0.0008\n",
      "Residual   38   0.3337 0.0088      nan     None\n",
      "Total      46   3.3139 0.0720      nan     None\n"
     ]
    }
   ],
   "source": [
    "intraCorr('Subject','PaCO2','pH',dataTest).print_result()"
   ]
  },
  {
   "cell_type": "markdown",
   "metadata": {},
   "source": [
    "#### Plot your variables\n",
    "`intraCorr` contains a `plot` method can allow you to display the tendencies. Note that you might have to use `%matplotlib inline` if you are not able to see the following plot."
   ]
  },
  {
   "cell_type": "code",
   "execution_count": 6,
   "metadata": {},
   "outputs": [
    {
     "data": {
      "image/png": "[encoded data removed]",
      "text/plain": [
       "<Figure size 720x720 with 1 Axes>"
      ]
     },
     "metadata": {
      "needs_background": "light"
     },
     "output_type": "display_data"
    }
   ],
   "source": [
    "intraCorr('Subject','PaCO2','pH',dataTest).plot(prefix='Subject')"
   ]
  },
  {
   "cell_type": "markdown",
   "metadata": {},
   "source": [
    "#### Use the correlation and p_value"
   ]
  },
  {
   "cell_type": "code",
   "execution_count": 7,
   "metadata": {},
   "outputs": [
    {
     "name": "stdout",
     "output_type": "stream",
     "text": [
      "Correlation = -0.5067697422330684 with P values = 0.0008471081091287977\n"
     ]
    }
   ],
   "source": [
    "print(\"Correlation = {0} with P values = {1}\".format(*intraCorr('Subject','PaCO2','pH',dataTest).fit()))"
   ]
  },
  {
   "cell_type": "markdown",
   "metadata": {},
   "source": [
    "#### Save the result for later use"
   ]
  },
  {
   "cell_type": "code",
   "execution_count": 8,
   "metadata": {},
   "outputs": [],
   "source": [
    "corr, p_value = intraCorr('Subject','PaCO2','pH',dataTest).fit()"
   ]
  },
  {
   "cell_type": "code",
   "execution_count": 9,
   "metadata": {},
   "outputs": [
    {
     "data": {
      "text/plain": [
       "(-0.5067697422330684, 0.0008471081091287977)"
      ]
     },
     "execution_count": 9,
     "metadata": {},
     "output_type": "execute_result"
    }
   ],
   "source": [
    "corr, p_value"
   ]
  },
  {
   "cell_type": "markdown",
   "metadata": {},
   "source": [
    "## Conclusion\n",
    "\n",
    "You can use this method to iterate over all the variables that you have and contruct a matrix of correlations. Note that `intraCorr` uses `Pandas` as the main source for data store/managing. "
   ]
  },
  {
   "cell_type": "code",
   "execution_count": null,
   "metadata": {},
   "outputs": [],
   "source": []
  }
 ],
 "metadata": {
  "kernelspec": {
   "display_name": "Python 3",
   "language": "python",
   "name": "python3"
  },
  "language_info": {
   "codemirror_mode": {
    "name": "ipython",
    "version": 3
   },
   "file_extension": ".py",
   "mimetype": "text/x-python",
   "name": "python",
   "nbconvert_exporter": "python",
   "pygments_lexer": "ipython3",
   "version": "3.7.3"
  }
 },
 "nbformat": 4,
 "nbformat_minor": 2
}
